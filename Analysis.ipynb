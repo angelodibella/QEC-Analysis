{
 "cells": [
  {
   "cell_type": "markdown",
   "metadata": {},
   "source": [
    "# Analysis\n",
    "\n",
    "This notebook is for extracting the bulk of the results for the project."
   ]
  },
  {
   "cell_type": "code",
   "execution_count": null,
   "metadata": {},
   "outputs": [],
   "source": [
    "%matplotlib inline"
   ]
  },
  {
   "cell_type": "code",
   "execution_count": null,
   "metadata": {},
   "outputs": [],
   "source": [
    "import numpy as np\n",
    "import networkx as nx\n",
    "import stim\n",
    "import sinter\n",
    "import model\n",
    "\n",
    "import matplotlib.pyplot as plt"
   ]
  },
  {
   "cell_type": "code",
   "execution_count": null,
   "metadata": {},
   "outputs": [],
   "source": [
    "# Edit matplotlib parameters\n",
    "plt.rcParams.update(\n",
    "    {\n",
    "        \"text.usetex\": True,  # WARNING: make false if no TeX compiler installed\n",
    "        \"font.family\": \"Serif\",\n",
    "        \"figure.dpi\": 300,\n",
    "    }\n",
    ")"
   ]
  },
  {
   "cell_type": "markdown",
   "metadata": {},
   "source": [
    "## $\\text{Hamming}(7,4)$"
   ]
  },
  {
   "cell_type": "code",
   "execution_count": null,
   "metadata": {},
   "outputs": [],
   "source": [
    "clist_hamming_7_4 = [\"B\", \"C\", 0, 1, 5, 6, \"B\", \"B\", \"C\", 1, 2, 4, 5, \"B\", \"B\", \"B\", \"C\", 3, 4, 5, 6, \"B\"]\n",
    "clist_rep_3 = [\"B\", \"C\", 0, 1, \"B\", \"C\", 1, 2, \"B\"]\n",
    "pos_rep_3_rep_3 = [(x, 5 - y - 1) for y in range(5) for x in range(5)]\n",
    "pos_rep_3_hamming_7_4 = [(x, 5 - y - 1) for y in range(5) for x in range(10)]"
   ]
  },
  {
   "cell_type": "code",
   "execution_count": null,
   "metadata": {},
   "outputs": [],
   "source": [
    "hp_code_rep_3_rep_3 = model.StabilizerModel(\n",
    "    \"hypergraph_product_code:z_memory\",\n",
    "    clist1=clist_rep_3,\n",
    "    clist2=clist_rep_3,\n",
    "    pos=pos_rep_3_rep_3,\n",
    "    rounds=2,\n",
    ")\n",
    "\n",
    "hp_code_rep_3_rep_3_tripartite = model.StabilizerModel(\n",
    "    \"hypergraph_product_code:z_memory\",\n",
    "    clist1=clist_rep_3,\n",
    "    clist2=clist_rep_3,\n",
    "    pos=\"spring\",\n",
    "    rounds=2,\n",
    ")"
   ]
  },
  {
   "cell_type": "code",
   "execution_count": null,
   "metadata": {},
   "outputs": [],
   "source": [
    "\n",
    "hp_code_rep_3_hamming_7_4 = model.StabilizerModel(\n",
    "    \"hypergraph_product_code:x_memory\",\n",
    "    clist1=clist_rep_3,\n",
    "    clist2=clist_hamming_7_4,\n",
    "    pos=pos_rep_3_hamming_7_4,\n",
    "    rounds=2,\n",
    ")"
   ]
  },
  {
   "cell_type": "code",
   "execution_count": null,
   "metadata": {},
   "outputs": [],
   "source": []
  }
 ],
 "metadata": {
  "kernelspec": {
   "display_name": "Python 3",
   "language": "python",
   "name": "python3"
  },
  "language_info": {
   "name": "python",
   "version": "3.10.12"
  }
 },
 "nbformat": 4,
 "nbformat_minor": 2
}
